{
 "cells": [
  {
   "cell_type": "code",
   "id": "initial_id",
   "metadata": {
    "collapsed": true,
    "ExecuteTime": {
     "end_time": "2025-04-09T07:13:56.878971Z",
     "start_time": "2025-04-09T07:13:56.872521Z"
    }
   },
   "source": [
    "from Bio.Seq import Seq\n",
    "from Bio.SeqUtils import gc_fraction\n",
    "from Bio.SeqIO import parse\n",
    "from Bio.Align import PairwiseAligner"
   ],
   "outputs": [],
   "execution_count": 49
  },
  {
   "metadata": {
    "ExecuteTime": {
     "end_time": "2025-04-09T06:54:48.047038Z",
     "start_time": "2025-04-09T06:54:48.041260Z"
    }
   },
   "cell_type": "code",
   "source": "seq1 = Seq(\"CGGTCTAGCAGATCGTTTAACGGCTAGGTCAAATAGAGTGCTTTGATATCGGCATGTCTGGCTTTAGAATTCAGTATAGTGCGCTGATCCGAGTCGAGAT\")",
   "id": "9e2fd74a8e04f547",
   "outputs": [],
   "execution_count": 25
  },
  {
   "metadata": {
    "ExecuteTime": {
     "end_time": "2025-04-09T06:49:44.530602Z",
     "start_time": "2025-04-09T06:49:44.515464Z"
    }
   },
   "cell_type": "code",
   "source": "gc_fraction(seq1)",
   "id": "acf541e9ac6784ce",
   "outputs": [
    {
     "data": {
      "text/plain": [
       "0.46"
      ]
     },
     "execution_count": 4,
     "metadata": {},
     "output_type": "execute_result"
    }
   ],
   "execution_count": 4
  },
  {
   "metadata": {
    "ExecuteTime": {
     "end_time": "2025-04-09T06:50:48.281033Z",
     "start_time": "2025-04-09T06:50:48.275630Z"
    }
   },
   "cell_type": "code",
   "source": [
    "a = \"ATCGTTTAACGGCTAGGTC\"\n",
    "b = \"CAAATAGAGTGACCT\""
   ],
   "id": "dbad9cf7bc5235fa",
   "outputs": [],
   "execution_count": 8
  },
  {
   "metadata": {
    "ExecuteTime": {
     "end_time": "2025-04-09T06:51:03.709815Z",
     "start_time": "2025-04-09T06:51:03.700629Z"
    }
   },
   "cell_type": "code",
   "source": "a in seq1, b in seq1",
   "id": "3f4b64396c608041",
   "outputs": [
    {
     "data": {
      "text/plain": [
       "(True, False)"
      ]
     },
     "execution_count": 11,
     "metadata": {},
     "output_type": "execute_result"
    }
   ],
   "execution_count": 11
  },
  {
   "metadata": {
    "ExecuteTime": {
     "end_time": "2025-04-09T06:54:49.738196Z",
     "start_time": "2025-04-09T06:54:49.731349Z"
    }
   },
   "cell_type": "code",
   "source": "seq2 = Seq(\"AAAAACACCAGTGCCCAAGACCAGGCGGGCTCGCCGCGTCGGCTAATCCCGGTACATCTTGTAAACAATGTTCAGAAGAAAGTCTGTGATAGAGGGACGA\")",
   "id": "6680d7a24a9e4f",
   "outputs": [],
   "execution_count": 26
  },
  {
   "metadata": {
    "ExecuteTime": {
     "end_time": "2025-04-09T06:55:10.710003Z",
     "start_time": "2025-04-09T06:55:10.703270Z"
    }
   },
   "cell_type": "code",
   "source": [
    "# seq1 = seq1 + seq2\n",
    "gc_fraction(seq1)\n"
   ],
   "id": "858bc9971f470bc8",
   "outputs": [
    {
     "data": {
      "text/plain": [
       "0.49"
      ]
     },
     "execution_count": 28,
     "metadata": {},
     "output_type": "execute_result"
    }
   ],
   "execution_count": 28
  },
  {
   "metadata": {
    "ExecuteTime": {
     "end_time": "2025-04-09T07:07:13.880188Z",
     "start_time": "2025-04-09T07:07:13.872293Z"
    }
   },
   "cell_type": "code",
   "source": [
    "fpath = \"task2.fasta\"\n",
    "f =  open(fpath, \"r\")\n",
    "records = parse(f, \"fasta\")\n",
    "\n",
    "for r in records:\n",
    "    print(r.description)\n",
    "    print(len(r.seq))\n",
    "    print(r.seq)\n"
   ],
   "id": "5a4cce606e0304b",
   "outputs": [
    {
     "name": "stdout",
     "output_type": "stream",
     "text": [
      "AB938130.1 Mobula thurstoni mitochondrial gene for 12S rRNA, partial sequence, specimen_voucher: OCF(Okinawa Churaumi Foundation)-P20100731-1\n",
      "180\n",
      "CACCGCGGTTATACGAGTGACACAAACTAATATTTCACGGCGTTAAGGGTGATTAGAAATAATCTCATCAGTATAAAGTTAAGACCTCATTAAGCTGTCATACGCACTTATGATTGAAAACATCATTAACGAAAGTAACTTTACACAAACAGAATTTTTGACCTCACGACAGTTAAGACC\n"
     ]
    }
   ],
   "execution_count": 47
  },
  {
   "metadata": {
    "ExecuteTime": {
     "end_time": "2025-04-09T07:13:08.688196Z",
     "start_time": "2025-04-09T07:13:08.682119Z"
    }
   },
   "cell_type": "code",
   "source": [
    "seq3 = Seq(\"ATGCGTACCTGACTGAGGCTAGCTAGCTAGCTGACTGACTG\")\n",
    "seq4 = Seq(\"ATGCGTACGTACTGTCGCTAGCATCGATCGTGACTGACTGA\")"
   ],
   "id": "9a0e7d320ae1a458",
   "outputs": [],
   "execution_count": 48
  },
  {
   "metadata": {
    "ExecuteTime": {
     "end_time": "2025-04-09T07:20:03.562971Z",
     "start_time": "2025-04-09T07:20:03.549748Z"
    }
   },
   "cell_type": "code",
   "source": [
    "alg = PairwiseAligner()\n",
    "alg.mode = \"global\"\n",
    "alg.match_score = 1\n",
    "alg.mismatch_score = -1\n",
    "alg.open_gap_score = -2\n",
    "alg.extend_gap_score = -0.5\n",
    "\n",
    "aligned = alg.align(seq3, seq4)\n",
    "for a in aligned:\n",
    "    print(a)\n",
    "    print(a.score)\n"
   ],
   "id": "70b5be90472d69af",
   "outputs": [
    {
     "name": "stdout",
     "output_type": "stream",
     "text": [
      "target            0 ATGCGTACCTGACTGAGGCTAGC-TAGCTAGCTGACTGACTG- 41\n",
      "                  0 ||||||||.|-||||..||||||-|.|.|.|-||||||||||- 43\n",
      "query             0 ATGCGTACGT-ACTGTCGCTAGCATCGATCG-TGACTGACTGA 41\n",
      "\n",
      "19.0\n",
      "target            0 ATGCGTACCTGACTGAGGCTAGCTAGCTAGC-TGACTGACTG- 41\n",
      "                  0 ||||||||.|-||||..||||||-|.|.|.|-||||||||||- 43\n",
      "query             0 ATGCGTACGT-ACTGTCGCTAGC-ATCGATCGTGACTGACTGA 41\n",
      "\n",
      "19.0\n"
     ]
    }
   ],
   "execution_count": 60
  }
 ],
 "metadata": {
  "kernelspec": {
   "display_name": "Python 3",
   "language": "python",
   "name": "python3"
  },
  "language_info": {
   "codemirror_mode": {
    "name": "ipython",
    "version": 2
   },
   "file_extension": ".py",
   "mimetype": "text/x-python",
   "name": "python",
   "nbconvert_exporter": "python",
   "pygments_lexer": "ipython2",
   "version": "2.7.6"
  }
 },
 "nbformat": 4,
 "nbformat_minor": 5
}
