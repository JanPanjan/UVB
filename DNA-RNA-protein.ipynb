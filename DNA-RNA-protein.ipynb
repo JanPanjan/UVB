{
 "cells": [
  {
   "cell_type": "code",
   "execution_count": null,
   "id": "a90bae02-0817-4742-aa8a-828298612d90",
   "metadata": {},
   "outputs": [],
   "source": [
    "### Import necessary module\n",
    "from Bio.Seq import Seq\n",
    "from Bio.Data import IUPACData\n"
   ]
  },
  {
   "cell_type": "code",
   "execution_count": null,
   "id": "84affd2d-ca77-4ff9-9c8f-f19f0ceaebd9",
   "metadata": {},
   "outputs": [],
   "source": [
    "### Example DNA sequence\n",
    "dna_input = \"ATGGCCATTGTAATGGGCCGCTGAAAGGGTGCCCGATAG\""
   ]
  },
  {
   "cell_type": "code",
   "execution_count": null,
   "id": "b5d41240-22d8-46d4-80e0-84be6d4f6dd8",
   "metadata": {},
   "outputs": [],
   "source": [
    "# Create a Seq object\n",
    "dna_seq = Seq(dna_input)\n",
    "dna_seq_rc = dna_seq.reverse_complement()"
   ]
  },
  {
   "cell_type": "code",
   "execution_count": null,
   "id": "775c4d8f-5196-48b2-8b93-9214e415fe2e",
   "metadata": {},
   "outputs": [],
   "source": [
    "### Display results\n",
    "print(f\"DNA Sequence: {dna_input}\")\n",
    "print(f\"DNA Sequence (dna_seq object): {dna_seq}\")\n",
    "print(f\"Reverse complement DNA Sequence: {dna_seq_rc}\")"
   ]
  },
  {
   "cell_type": "code",
   "execution_count": null,
   "id": "6b527b72-3a71-4f6c-9501-ffc2480a9327",
   "metadata": {},
   "outputs": [],
   "source": [
    "# Transcribe DNA to RNA\n",
    "rna_seq = dna_seq.transcribe()"
   ]
  },
  {
   "cell_type": "code",
   "execution_count": null,
   "id": "66da8fc3-e1f0-4b0e-96aa-445e514d3450",
   "metadata": {},
   "outputs": [],
   "source": [
    "### Display results\n",
    "print(f\"RNA Sequence: {rna_seq}\")"
   ]
  },
  {
   "cell_type": "code",
   "execution_count": null,
   "id": "42ecea94-b644-45c6-a030-c34e7f701a0f",
   "metadata": {},
   "outputs": [],
   "source": [
    "# Translate RNA to protein\n",
    "protein_seq = rna_seq.translate()"
   ]
  },
  {
   "cell_type": "code",
   "execution_count": null,
   "id": "013c7631-78a7-432b-aee0-cb74fac32368",
   "metadata": {},
   "outputs": [],
   "source": [
    "# Convert one-letter amino acid code to three-letter code\n",
    "# The IUPACData.protein_letters_1to3 dictionary does not include a mapping for *, so it defaults to Xxx\n",
    "def one_to_three(seq):\n",
    "    return \"-\".join(IUPACData.protein_letters_1to3.get(aa, 'Xxx') for aa in seq)\n",
    "\n",
    "protein_seq_three_letter = one_to_three(protein_seq)"
   ]
  },
  {
   "cell_type": "code",
   "execution_count": null,
   "id": "f9cbdb21-facb-40a0-af25-ca5c42b64c67",
   "metadata": {},
   "outputs": [],
   "source": [
    "### Display results\n",
    "print(f\"Protein Sequence: {protein_seq}\")\n",
    "print(f\"Protein Sequence (3-letter code): {protein_seq_three_letter}\")\n"
   ]
  },
  {
   "cell_type": "code",
   "execution_count": null,
   "id": "111df0bf-d65f-45a3-a2fe-01ec7e80f859",
   "metadata": {},
   "outputs": [],
   "source": []
  }
 ],
 "metadata": {
  "kernelspec": {
   "display_name": "Python 3 (ipykernel)",
   "language": "python",
   "name": "python3"
  },
  "language_info": {
   "codemirror_mode": {
    "name": "ipython",
    "version": 3
   },
   "file_extension": ".py",
   "mimetype": "text/x-python",
   "name": "python",
   "nbconvert_exporter": "python",
   "pygments_lexer": "ipython3",
   "version": "3.12.9"
  }
 },
 "nbformat": 4,
 "nbformat_minor": 5
}
