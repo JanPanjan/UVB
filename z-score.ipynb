{
 "cells": [
  {
   "cell_type": "code",
   "execution_count": null,
   "id": "94ab60de-2fc0-4762-9587-64ae4da09b90",
   "metadata": {},
   "outputs": [],
   "source": [
    "import random\n",
    "import numpy as np\n",
    "from Bio import pairwise2\n",
    "from Bio.Align import substitution_matrices"
   ]
  },
  {
   "cell_type": "code",
   "execution_count": null,
   "id": "9fd0559a-5223-4c22-8aa8-d55ce979fc73",
   "metadata": {},
   "outputs": [],
   "source": [
    "# Define sequences\n",
    "seq1 = \"MHVHIIRLHQ\"\n",
    "seq2 = \"MAVHQILIRP\""
   ]
  },
  {
   "cell_type": "code",
   "execution_count": null,
   "id": "f1ffdb7a-bcb8-4639-ab1c-a082aaea77ee",
   "metadata": {},
   "outputs": [],
   "source": [
    "# Load BLOSUM62 matrix\n",
    "blosum62 = substitution_matrices.load(\"BLOSUM62\")\n",
    "\n",
    "# Define gap penalties\n",
    "gap_open = -10\n",
    "gap_extend = -1"
   ]
  },
  {
   "cell_type": "code",
   "execution_count": null,
   "id": "ae7ad731-1a3e-432a-be54-0132eefe2c22",
   "metadata": {},
   "outputs": [],
   "source": [
    "# Compute the actual alignment score\n",
    "alignment = pairwise2.align.globalds(seq1, seq2, blosum62, gap_open, gap_extend, score_only=True)\n",
    "actual_score = alignment"
   ]
  },
  {
   "cell_type": "code",
   "execution_count": null,
   "id": "68260094-b6c0-4e15-9318-3e01e7076a9f",
   "metadata": {},
   "outputs": [],
   "source": [
    "# Function to shuffle a sequence\n",
    "def shuffle_sequence(seq):\n",
    "    return ''.join(random.sample(seq, len(seq)))\n",
    "\n",
    "# Generate random alignments\n",
    "num_randomizations = 1000\n",
    "random_scores = []\n",
    "\n",
    "for _ in range(num_randomizations):\n",
    "    shuffled_seq2 = shuffle_sequence(seq2)  # Shuffle sequence2\n",
    "    random_score = pairwise2.align.globalds(seq1, shuffled_seq2, blosum62, gap_open, gap_extend, score_only=True)\n",
    "    random_scores.append(random_score)"
   ]
  },
  {
   "cell_type": "code",
   "execution_count": null,
   "id": "4bcac4cc-1ed3-419a-934f-c757bb56773b",
   "metadata": {},
   "outputs": [],
   "source": [
    "# Compute mean and standard deviation\n",
    "mu = np.mean(random_scores)\n",
    "sigma = np.std(random_scores)\n",
    "\n",
    "# Compute Z-score\n",
    "z_score = (actual_score - mu) / sigma"
   ]
  },
  {
   "cell_type": "code",
   "execution_count": null,
   "id": "a80944b3-ba24-4d58-8577-bdfbd148e3fe",
   "metadata": {},
   "outputs": [],
   "source": [
    "# Display results\n",
    "print(f\"Actual Alignment Score: {actual_score}\")\n",
    "print(f\"Mean Random Score (µ): {mu}\")\n",
    "print(f\"Standard Deviation (σ): {sigma}\")\n",
    "print(f\"Z-score: {z_score}\")"
   ]
  }
 ],
 "metadata": {
  "kernelspec": {
   "display_name": "Python 3 (ipykernel)",
   "language": "python",
   "name": "python3"
  },
  "language_info": {
   "codemirror_mode": {
    "name": "ipython",
    "version": 3
   },
   "file_extension": ".py",
   "mimetype": "text/x-python",
   "name": "python",
   "nbconvert_exporter": "python",
   "pygments_lexer": "ipython3",
   "version": "3.12.9"
  }
 },
 "nbformat": 4,
 "nbformat_minor": 5
}
