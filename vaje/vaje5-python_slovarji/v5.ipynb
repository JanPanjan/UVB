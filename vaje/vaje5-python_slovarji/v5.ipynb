{
 "cells": [
  {
   "cell_type": "markdown",
   "metadata": {},
   "source": [
    "# Vaje 5 - datoteke\n",
    "\n",
    "## Osnovno o slovarjih v Pythonu"
   ]
  },
  {
   "cell_type": "code",
   "execution_count": 32,
   "metadata": {},
   "outputs": [],
   "source": [
    "sl = {1: \"tvoja mama\", 2: \"adafg\"}"
   ]
  },
  {
   "cell_type": "code",
   "execution_count": 33,
   "metadata": {},
   "outputs": [
    {
     "data": {
      "text/plain": [
       "[(1, 'tvoja mama'), (2, 'adafg')]"
      ]
     },
     "execution_count": 33,
     "metadata": {},
     "output_type": "execute_result"
    }
   ],
   "source": [
    "[item for item in sl.items()]"
   ]
  },
  {
   "cell_type": "code",
   "execution_count": 34,
   "metadata": {},
   "outputs": [
    {
     "data": {
      "text/plain": [
       "[1, 2]"
      ]
     },
     "execution_count": 34,
     "metadata": {},
     "output_type": "execute_result"
    }
   ],
   "source": [
    "[item for item in sl.keys()]"
   ]
  },
  {
   "cell_type": "code",
   "execution_count": 35,
   "metadata": {},
   "outputs": [
    {
     "data": {
      "text/plain": [
       "['tvoja mama', 'adafg']"
      ]
     },
     "execution_count": 35,
     "metadata": {},
     "output_type": "execute_result"
    }
   ],
   "source": [
    "[item for item in sl.values()]"
   ]
  },
  {
   "cell_type": "code",
   "execution_count": 36,
   "metadata": {},
   "outputs": [
    {
     "data": {
      "text/plain": [
       "[(1, 'tvoja mama'), (2, 'adafg'), (420, 'zaza')]"
      ]
     },
     "execution_count": 36,
     "metadata": {},
     "output_type": "execute_result"
    }
   ],
   "source": [
    "sl[420] = \"zaza\"\n",
    "[item for item in sl.items()]"
   ]
  },
  {
   "cell_type": "code",
   "execution_count": 37,
   "metadata": {},
   "outputs": [
    {
     "data": {
      "text/plain": [
       "[(2, 'adafg'), (420, 'zaza')]"
      ]
     },
     "execution_count": 37,
     "metadata": {},
     "output_type": "execute_result"
    }
   ],
   "source": [
    "\n",
    "sl.pop(1)\n",
    "[item for item in sl.items()]"
   ]
  },
  {
   "cell_type": "code",
   "execution_count": 38,
   "metadata": {},
   "outputs": [
    {
     "data": {
      "text/plain": [
       "[(420, 'zaza')]"
      ]
     },
     "execution_count": 38,
     "metadata": {},
     "output_type": "execute_result"
    }
   ],
   "source": [
    "sl.pop(2)\n",
    "[item for item in sl.items()]"
   ]
  },
  {
   "cell_type": "code",
   "execution_count": 39,
   "metadata": {},
   "outputs": [
    {
     "data": {
      "text/plain": [
       "[(0, 0), (1, 1), (2, 4), (3, 9), (4, 16)]"
      ]
     },
     "execution_count": 39,
     "metadata": {},
     "output_type": "execute_result"
    }
   ],
   "source": [
    "sa = {x: x*x for x in range(5)}\n",
    "[item for item in sa.items()]"
   ]
  },
  {
   "cell_type": "markdown",
   "metadata": {},
   "source": [
    "## Datoteke"
   ]
  },
  {
   "cell_type": "code",
   "execution_count": null,
   "metadata": {},
   "outputs": [
    {
     "name": "stdout",
     "output_type": "stream",
     "text": [
      "['first-30-records.fasta', 'protein.faa', 'NC_005816.fna', 'proteome.gbk']\n",
      "Opening \"V5-datoteke/first-30-records.fasta\"...\n",
      " Reading \"V5-datoteke/first-30-records.fasta\"...\n",
      "Opening \"V5-datoteke/protein.faa\"...\n",
      " Reading \"V5-datoteke/protein.faa\"...\n",
      "Opening \"V5-datoteke/NC_005816.fna\"...\n",
      " Reading \"V5-datoteke/NC_005816.fna\"...\n",
      "Opening \"V5-datoteke/proteome.gbk\"...\n",
      " Reading \"V5-datoteke/proteome.gbk\"...\n",
      "first-30-records.fasta:\n",
      " >XP_053215061.1 inverted formin-2-like isoform X1 [Podarcis raffonei]\n",
      "\n",
      "protein.faa:\n",
      " >XP_053215061.1 inverted formin-2-like isoform X1 [Podarcis raffonei]\n",
      "\n",
      "NC_005816.fna:\n",
      " >gi|45478711|ref|NC_005816.1| Yersinia pestis biovar Microtus str. 91001 plasmid pPCP1, complete sequence\n",
      "\n",
      "proteome.gbk:\n",
      " LOCUS       XP_053215061.1             0 aa                     UNK 01-JAN-1980\n",
      "\n",
      "first-30-records.fasta:\n",
      " >XP_053215061.1 inverted formin-2-like isoform X1 [Podarcis raffonei]\n",
      "\n",
      "protein.faa:\n",
      " >XP_053215061.1 inverted formin-2-like isoform X1 [Podarcis raffonei]\n",
      "\n",
      "NC_005816.fna:\n",
      " >gi|45478711|ref|NC_005816.1| Yersinia pestis biovar Microtus str. 91001 plasmid pPCP1, complete sequence\n",
      "\n",
      "proteome.gbk:\n",
      " LOCUS       XP_053215061.1             0 aa                     UNK 01-JAN-1980\n",
      "\n",
      "first-30-records.fasta:\n",
      " >XP_053215061.1 inverted formin-2-like isoform X1 [Podarcis raffonei]\n",
      "\n",
      "protein.faa:\n",
      " >XP_053215061.1 inverted formin-2-like isoform X1 [Podarcis raffonei]\n",
      "\n",
      "NC_005816.fna:\n",
      " >gi|45478711|ref|NC_005816.1| Yersinia pestis biovar Microtus str. 91001 plasmid pPCP1, complete sequence\n",
      "\n",
      "proteome.gbk:\n",
      " LOCUS       XP_053215061.1             0 aa                     UNK 01-JAN-1980\n",
      "\n",
      "first-30-records.fasta:\n",
      " >XP_053215061.1 inverted formin-2-like isoform X1 [Podarcis raffonei]\n",
      "\n",
      "protein.faa:\n",
      " >XP_053215061.1 inverted formin-2-like isoform X1 [Podarcis raffonei]\n",
      "\n",
      "NC_005816.fna:\n",
      " >gi|45478711|ref|NC_005816.1| Yersinia pestis biovar Microtus str. 91001 plasmid pPCP1, complete sequence\n",
      "\n",
      "proteome.gbk:\n",
      " LOCUS       XP_053215061.1             0 aa                     UNK 01-JAN-1980\n",
      "\n"
     ]
    }
   ],
   "source": [
    "import os"
   ]
  },
  {
   "cell_type": "code",
   "execution_count": 44,
   "metadata": {},
   "outputs": [
    {
     "data": {
      "text/plain": [
       "['first-30-records.fasta', 'protein.faa', 'NC_005816.fna', 'proteome.gbk']"
      ]
     },
     "execution_count": 44,
     "metadata": {},
     "output_type": "execute_result"
    }
   ],
   "source": [
    "files = {}\n",
    "fpath = \"V5-datoteke\"\n",
    "os.listdir(fpath)"
   ]
  },
  {
   "cell_type": "code",
   "execution_count": 46,
   "metadata": {},
   "outputs": [],
   "source": [
    "for fname in os.listdir(fpath):\n",
    "    cfn = fpath + \"/\" + fname\n",
    "    with open(cfn) as f:\n",
    "        files[fname] = f.readlines()"
   ]
  },
  {
   "cell_type": "code",
   "execution_count": 48,
   "metadata": {},
   "outputs": [
    {
     "name": "stdout",
     "output_type": "stream",
     "text": [
      "first-30-records.fasta:\n",
      " >XP_053215061.1 inverted formin-2-like isoform X1 [Podarcis raffonei]\n",
      "\n",
      "protein.faa:\n",
      " >XP_053215061.1 inverted formin-2-like isoform X1 [Podarcis raffonei]\n",
      "\n",
      "NC_005816.fna:\n",
      " >gi|45478711|ref|NC_005816.1| Yersinia pestis biovar Microtus str. 91001 plasmid pPCP1, complete sequence\n",
      "\n",
      "proteome.gbk:\n",
      " LOCUS       XP_053215061.1             0 aa                     UNK 01-JAN-1980\n",
      "\n",
      "first-30-records.fasta:\n",
      " >XP_053215061.1 inverted formin-2-like isoform X1 [Podarcis raffonei]\n",
      "\n",
      "protein.faa:\n",
      " >XP_053215061.1 inverted formin-2-like isoform X1 [Podarcis raffonei]\n",
      "\n",
      "NC_005816.fna:\n",
      " >gi|45478711|ref|NC_005816.1| Yersinia pestis biovar Microtus str. 91001 plasmid pPCP1, complete sequence\n",
      "\n",
      "proteome.gbk:\n",
      " LOCUS       XP_053215061.1             0 aa                     UNK 01-JAN-1980\n",
      "\n",
      "first-30-records.fasta:\n",
      " >XP_053215061.1 inverted formin-2-like isoform X1 [Podarcis raffonei]\n",
      "\n",
      "protein.faa:\n",
      " >XP_053215061.1 inverted formin-2-like isoform X1 [Podarcis raffonei]\n",
      "\n",
      "NC_005816.fna:\n",
      " >gi|45478711|ref|NC_005816.1| Yersinia pestis biovar Microtus str. 91001 plasmid pPCP1, complete sequence\n",
      "\n",
      "proteome.gbk:\n",
      " LOCUS       XP_053215061.1             0 aa                     UNK 01-JAN-1980\n",
      "\n",
      "first-30-records.fasta:\n",
      " >XP_053215061.1 inverted formin-2-like isoform X1 [Podarcis raffonei]\n",
      "\n",
      "protein.faa:\n",
      " >XP_053215061.1 inverted formin-2-like isoform X1 [Podarcis raffonei]\n",
      "\n",
      "NC_005816.fna:\n",
      " >gi|45478711|ref|NC_005816.1| Yersinia pestis biovar Microtus str. 91001 plasmid pPCP1, complete sequence\n",
      "\n",
      "proteome.gbk:\n",
      " LOCUS       XP_053215061.1             0 aa                     UNK 01-JAN-1980\n",
      "\n"
     ]
    }
   ],
   "source": [
    "for file in files:\n",
    "    [print(f\"{some[0]}:\\n {some[1][0].strip()}\\n\") for some in files.items()]"
   ]
  },
  {
   "cell_type": "markdown",
   "metadata": {},
   "source": [
    "## FASTA parsing"
   ]
  },
  {
   "cell_type": "code",
   "execution_count": 69,
   "metadata": {},
   "outputs": [],
   "source": [
    "from Bio import SeqIO\n",
    "from Bio.Seq import Seq\n",
    "from Bio.SeqIO import parse\n",
    "from Bio.SeqRecord import SeqRecord"
   ]
  },
  {
   "cell_type": "code",
   "execution_count": 50,
   "metadata": {},
   "outputs": [],
   "source": [
    "fpath = \"V5-datoteke/protein.faa\""
   ]
  },
  {
   "cell_type": "code",
   "execution_count": 67,
   "metadata": {},
   "outputs": [
    {
     "data": {
      "text/plain": [
       "Bio.SeqIO.FastaIO.FastaIterator"
      ]
     },
     "execution_count": 67,
     "metadata": {},
     "output_type": "execute_result"
    }
   ],
   "source": [
    "file = open(fpath, \"r\")\n",
    "records = parse(file, \"fasta\")\n",
    "type(records)"
   ]
  },
  {
   "cell_type": "markdown",
   "metadata": {},
   "source": [
    "`records` je iterator, zato ne moremo dostopat do elementov preko indeksov."
   ]
  },
  {
   "cell_type": "code",
   "execution_count": 68,
   "metadata": {},
   "outputs": [
    {
     "name": "stdout",
     "output_type": "stream",
     "text": [
      "id: XP_053215061.1\n",
      "id: XP_053215062.1\n",
      "id: XP_053215063.1\n"
     ]
    }
   ],
   "source": [
    "i = 0\n",
    "for r in records:\n",
    "    i += 1\n",
    "    print(\"id: %s\" % r.id)\n",
    "    if i == 3:\n",
    "        break"
   ]
  },
  {
   "cell_type": "markdown",
   "metadata": {},
   "source": [
    "## GeneBank parsing"
   ]
  },
  {
   "cell_type": "code",
   "execution_count": 70,
   "metadata": {},
   "outputs": [],
   "source": [
    "fpath = \"V5-datoteke/proteome.gbk\""
   ]
  },
  {
   "cell_type": "code",
   "execution_count": 73,
   "metadata": {},
   "outputs": [
    {
     "name": "stdout",
     "output_type": "stream",
     "text": [
      "id:  XP_053215061.1\n",
      "id:  XP_053215061.1\n",
      "id:  XP_053215062.1\n"
     ]
    }
   ],
   "source": [
    "i = 0\n",
    "for record in SeqIO.parse(fpath, \"genbank\"):\n",
    "    i += 1\n",
    "    print(\"id: \", record.id)\n",
    "    if i == 3:\n",
    "        break"
   ]
  },
  {
   "cell_type": "code",
   "execution_count": null,
   "metadata": {},
   "outputs": [
    {
     "data": {
      "text/plain": [
       "list"
      ]
     },
     "execution_count": 75,
     "metadata": {},
     "output_type": "execute_result"
    }
   ],
   "source": [
    "ids = [record.id for record in SeqIO.parse(fpath, \"genbank\")]"
   ]
  },
  {
   "cell_type": "code",
   "execution_count": 77,
   "metadata": {},
   "outputs": [
    {
     "data": {
      "text/plain": [
       "['XP_053215061.1', 'XP_053215061.1', 'XP_053215062.1']"
      ]
     },
     "execution_count": 77,
     "metadata": {},
     "output_type": "execute_result"
    }
   ],
   "source": [
    "ids[:3]"
   ]
  },
  {
   "cell_type": "code",
   "execution_count": 79,
   "metadata": {},
   "outputs": [],
   "source": [
    "rcr = list(SeqIO.parse(fpath, \"genbank\"))"
   ]
  },
  {
   "cell_type": "code",
   "execution_count": 82,
   "metadata": {},
   "outputs": [
    {
     "data": {
      "text/plain": [
       "[SeqRecord(seq=Seq('MMEQPLRCKECFAKSHLGAKQLTKKTSKCIQVDMDLEEEFSSGNRSSPDILDSM...KHC'), id='XP_053215061.1', name='XP_053215061.1', description='XP_053215061.1 inverted formin-2-like isoform X1 [Podarcis raffonei]', dbxrefs=[]),\n",
       " SeqRecord(seq=Seq('MLRFQEVAKHGTPLMPISTCSKTLIAGRYTIQQKLGRGSFGTVYLVSDKKAKEE...VSQ'), id='XP_053215063.1', name='XP_053215063.1', description='XP_053215063.1 serine/threonine-protein kinase Nek11 isoform X3 [Podarcis raffonei]', dbxrefs=[]),\n",
       " SeqRecord(seq=Seq('MILTMEPDFDKENLVRYKTPRLLQRRRTLSFQKEFSFEDKEELANSTKDIDANL...GLF'), id='XP_053215065.1', name='XP_053215065.1', description='XP_053215065.1 supervillin isoform X1 [Podarcis raffonei]', dbxrefs=[])]"
      ]
     },
     "execution_count": 82,
     "metadata": {},
     "output_type": "execute_result"
    }
   ],
   "source": [
    "fst_30_rc = rcr[1:60:2]\n",
    "fst_30_rc[:3]"
   ]
  },
  {
   "cell_type": "code",
   "execution_count": 83,
   "metadata": {},
   "outputs": [
    {
     "data": {
      "text/plain": [
       "30"
      ]
     },
     "execution_count": 83,
     "metadata": {},
     "output_type": "execute_result"
    }
   ],
   "source": [
    "SeqIO.write(fst_30_rc, \"V5-datoteke/first-30-records.fasta\", \"fasta\")"
   ]
  }
 ],
 "metadata": {
  "kernelspec": {
   "display_name": ".venv",
   "language": "python",
   "name": "python3"
  },
  "language_info": {
   "codemirror_mode": {
    "name": "ipython",
    "version": 3
   },
   "file_extension": ".py",
   "mimetype": "text/x-python",
   "name": "python",
   "nbconvert_exporter": "python",
   "pygments_lexer": "ipython3",
   "version": "3.11.11"
  }
 },
 "nbformat": 4,
 "nbformat_minor": 2
}
