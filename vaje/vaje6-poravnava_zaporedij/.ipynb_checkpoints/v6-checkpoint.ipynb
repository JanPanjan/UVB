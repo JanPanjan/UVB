{
 "cells": [
  {
   "cell_type": "code",
   "id": "initial_id",
   "metadata": {
    "collapsed": true,
    "ExecuteTime": {
     "end_time": "2025-04-03T07:18:12.962240Z",
     "start_time": "2025-04-03T07:18:12.957875Z"
    }
   },
   "source": "import Bio.AlignIO as AlignIO",
   "outputs": [],
   "execution_count": 28
  },
  {
   "metadata": {},
   "cell_type": "markdown",
   "source": [
    "- `parse` vrne iterator MultipleSeqAlignement iterator (več sekvenc)\n",
    "- `read` vrne iterator za eno sekvenco, idk.."
   ],
   "id": "c9cd0b24ce7d5316"
  },
  {
   "metadata": {
    "ExecuteTime": {
     "end_time": "2025-04-03T06:32:25.821179Z",
     "start_time": "2025-04-03T06:32:25.816639Z"
    }
   },
   "cell_type": "code",
   "source": [
    "alignments = AlignIO.read(\"PF02171_seed.sth\", \"stockholm\")\n",
    "alignments"
   ],
   "id": "121223292ed14de3",
   "outputs": [
    {
     "data": {
      "text/plain": [
       "<<class 'Bio.Align.MultipleSeqAlignment'> instance (16 records of length 395) at 7f6f8c41e510>"
      ]
     },
     "execution_count": 8,
     "metadata": {},
     "output_type": "execute_result"
    }
   ],
   "execution_count": 8
  },
  {
   "metadata": {},
   "cell_type": "markdown",
   "source": [
    "Iterator instance with 16 records (SeqRecord) of length 395.\n",
    "\n",
    "Za vsak zapis izpišite opis, začetno in končno točko, zaporedje in zunanje db_xrefs (če obstajajo).j"
   ],
   "id": "2028d5db71b5c9db"
  },
  {
   "metadata": {
    "ExecuteTime": {
     "end_time": "2025-04-03T06:39:55.946787Z",
     "start_time": "2025-04-03T06:39:55.942588Z"
    }
   },
   "cell_type": "code",
   "source": [
    "for alignment in alignments:\n",
    "    opis = alignment.description\n",
    "    start = alignment.annotations[\"start\"]\n",
    "    end = alignment.annotations[\"end\"]\n",
    "    zaporedje = alignment.seq\n",
    "    db_xrefs = \"\".join([x for x in alignment.dbxrefs])\n",
    "    db_xrefs = \"None\" if db_xrefs == \"\" else db_xrefs\n",
    "\n",
    "    print(f\"\"\"\n",
    "    opis: {opis}\n",
    "    start: {start}\n",
    "    end: {end}\n",
    "    zaporedje: {zaporedje}\n",
    "    db_xrefs: {db_xrefs}\n",
    "    \"\"\")"
   ],
   "id": "b27e9e9617b53337",
   "outputs": [
    {
     "name": "stdout",
     "output_type": "stream",
     "text": [
      "\n",
      "    opis: AGO1_SCHPO/500-799\n",
      "    start: 500\n",
      "    end: 799\n",
      "    zaporedje: YLFFILDK-NSPEP-YGSIKRVCNTMLGVPSQCAISKHILQS---------KPQYCANLGMKINVKVGGIN-CSLIPKSNP----LGNVPTL---------ILGGDVYHPGVGA----------TGVSIASIVASVD-LNGCKYTAVSRSQPRHQEVIEG-MKD------------IVVYLLQGFRAMTKQ-QPQRIIYFRDGTSEGQFLSVINDELSQIKEACH-------SLSPKYN--PKILVCTTQKRHHARFFIKNKSDG----------------------DRNGNPLPGTII---EKHVTHPYQYDFYLISHPSLQGVSVPVHYTVLHDEIQMPPDQF-QTL------CYNLCYVYARAT----SAVSLVPPVYYAHLVSNLARYQDV\n",
      "    db_xrefs: None\n",
      "    \n",
      "\n",
      "    opis: AGO6_ARATH/541-851\n",
      "    start: 541\n",
      "    end: 851\n",
      "    zaporedje: FILCILPERKTSDI-YGPWKKICLTEEGIHTQCICPIKI------------SDQYLTNVLLKINSKLGGIN-SLLGIEYSYNIPLINKIPTL---------ILGMDVSHGPPGR---------ADVPSVAAVVGSKCWPLISRYRAAVRTQSPRLEMIDSLFQPIENTE--KGDNGIMNELFVEFYRTSRARKPKQIIIFRDGVSESQFEQVLKIEVDQIIKAYQ-------RLGESDV--PKFTVIVAQKNHHTKLFQAKGPE---------------------------NVPAGTVV---DTKIVHPTNYDFYMCAHAGKIGTSRPAHYHVLLDEIGFSPDDL-QNL------IHSLSYVNQRST----TATSIVAPVRYAHLAAAQVAQFTK\n",
      "    db_xrefs: None\n",
      "    \n",
      "\n",
      "    opis: AGO4_ARATH/577-885\n",
      "    start: 577\n",
      "    end: 885\n",
      "    zaporedje: FILCVLPDKKNSDL-YGPWKKKNLTEFGIVTQCMAPTRQPND-----------QYLTNLLLKINAKLGGLN-SMLSVERTPAFTVISKVPTI---------ILGMDVSHGSPGQ---------SDVPSIAAVVSSREWPLISKYRASVRTQPSKAEMIESLVKKNGT-----EDDGIIKELLVDFYTSSNKRKPEHIIIFRDGVSESQFNQVLNIELDQIIEACK-------LLDANWN--PKFLLLVAQKNHHTKFFQPTSPE---------------------------NVPPGTII---DNKICHPKNNDFYLCAHAGMIGTTRPTHYHVLYDEIGFSADEL-QEL------VHSLSYVYQRST----SAISVVAPICYAHLAAAQLGTFMK\n",
      "    db_xrefs: None\n",
      "    \n",
      "\n",
      "    opis: TAG76_CAEEL/660-966\n",
      "    start: 660\n",
      "    end: 966\n",
      "    zaporedje: CIIVVLQS-KNSDI-YMTVKEQSDIVHGIMSQCVLMKNVSRP---------TPATCANIVLKLNMKMGGIN--SRIVADKITNKYLVDQPTM---------VVGIDVTHPTQAEM-------RMNMPSVAAIVANVD-LLPQSYGANVKVQKKCRESVVY-LLD------------AIRERIITFYRHTKQ-KPARIIVYRDGVSEGQFSEVLREEIQSIRTACL-------AIAEDFR--PPITYIVVQKRHHARIFCKYQNDM---------------------VGKAKNVPPGTTV---DTGIVSPEGFDFYLCSHYGVQGTSRPARYHVLLDECKFTADEI-QSI------TYGMCHTYGRCT----RSVSIPTPVYYADLVATRARCHVK\n",
      "    db_xrefs: None\n",
      "    \n",
      "\n",
      "    opis: O16720_CAEEL/566-867\n",
      "    start: 566\n",
      "    end: 867\n",
      "    zaporedje: LIVVVLPG--KTPI-YAEVKRVGDTVLGIATQCVQAKNAIRT---------TPQTLSNLCLKMNVKLGGVN-SILLPNVRPR---IFNEPVI---------FLGCDITHPAAGD---------TRKPSIAAVVGSMD-AHPSRYAATVRVQQHRQEIITD-LTY------------MVRELLVQFYRNTRF-KPARIVVYRDGVSEGQLFNVLQYELRAIREACV-------MLESGYQ--PGITFIAVQKRHHTRLFAADKADQ---------------------VGKAFNIPPGTTV---DVGITHPTEFDFFLCSHAGIQGTSRPSHYHVLWDDNDLTADEL-QQL------TYQMCHTYVRCT----RSVSIPAPAYYAHLVAFRARYHLV\n",
      "    db_xrefs: None\n",
      "    \n",
      "\n",
      "    opis: O62275_CAEEL/594-924\n",
      "    start: 594\n",
      "    end: 924\n",
      "    zaporedje: TFVFIITD-DSITT-LHQRYKMIEKDTKMIVQDMKLSKALSV--IN---AGKRLTLENVINKTNVKLGGSN--YVFVDAKKQL-----DSHL---------IIGVGISAPPAGTKYAM-ENKGVLNPNVIGYAYNA--QHNQEFSGDFVLNSASQDTLAP-IED------------IVMHSLNEYQKFHDGGLPRRVIVYRTGTSEGNHGSIMAYEIPLARAAMR-------DFSPDIQ----LVYIVVSKDHSFRFFKPDLASLASRPQATSSTASRHSAMPAAPKAWDLNIAPGILV---DSIVTNPACKQFFLNSHITLQGTAKTPLYTVLADDAKVSMTAL-EDI------TYKLCHLHQIVG----LPTSLPTPLYVANEYAKRGRNLWN\n",
      "    db_xrefs: None\n",
      "    \n",
      "\n",
      "    opis: YQ53_CAEEL/650-977\n",
      "    start: 650\n",
      "    end: 977\n",
      "    zaporedje: DILVGIAR-EKKPD-VHDILKYFEESIGLQTIQLCQQTVDKMMGG----QGGRQTIDNVMRKFNLKCGGTNFFVEIPNAVRGKAVCSNNETLRKKLLEHVQFIGFEISHGASRTLFDRSRSQMDGEPSVVGVSYSLT---NSTQLGGFTYLQTQKEYKLQKLDE------------FFPKCVRSYKEHSKT-LPTRIVIYRVGAGEGNFNRVKE-EVEEMRRTFD-------KIQPGYR--PHLVVIIAQRASHARVFPSCISGN---------------------RATDQNIPSGTCV---ENVLTSYGYDEFILSSQTPLIGTVRPCKYTILVNDAKWSKNEL-MHL------TYFRAFGHQVSY----QPPSVPDVLYAAENLAKRGRNNYK\n",
      "    db_xrefs: None\n",
      "    \n",
      "\n",
      "    opis: NRDE3_CAEEL/673-1001\n",
      "    start: 673\n",
      "    end: 1001\n",
      "    zaporedje: TIVFGIIA-EKRPD-MHDILKYFEEKLGQQTIQISSETADKFMRD----HGGKQTIDNVIRKLNPKCGGTNFLIDVPESVGHRVVCNNSAEMRAKLYAKTQFIGFEMSHTGARTRFDIQKVMFDGDPTVVGVAYSL--KHSAQLGGFSYFQESRLHKLTN-LQE------------KMQICLNAYEQSSSY-LPETVVVYRVGSGEGDYPQIVN-EVNEMKLAAR-------KKKHGYN--PKFLVICTQRNSHIRVFPEHINERG--------------------KSMEQNVKSGTCV---DVPGASHGYEEFILCCQTPLIGTVKPTKYTIIVNDCRWSKNEI-MNV------TYHLAFAHQVSY----APPAIPNVSYAAQNLAKRGHNNYK\n",
      "    db_xrefs: None\n",
      "    \n",
      "\n",
      "    opis: Q17567_CAEEL/397-708\n",
      "    start: 397\n",
      "    end: 708\n",
      "    zaporedje: MLVVMLAD-DNKTR-YDSLKKYLCVECPIPNQCVNLRTLAGKSKDGGENKNLGSIVLKIVLQMICKTGGA---LWKVNIPL-------KSTM---------IVGYDLYHDSTLK-----------GKTVGACVSTTS-NDFTQFYSQTRPHENPTQLGNN-LTH------------FVRKSLKQYYDNNDKTLPSRLILYRDGAGDGQIPYIKNTEVKLVRDACDAVTDKAAELSNKVQEKIKLAFIIVTKRVNMRILKQGSSS-----------------------KSAINPQPGTVV---DTTVTRPERMDFYLVPQFVNQGTVTPVSYNIIHDDTGLGPDKH-QQL------AFKLCHLYYNWQ----GTVRVPAPCQYAHKLAFLTAQSLH\n",
      "    db_xrefs: None\n",
      "    \n",
      "\n",
      "    opis: AUB_DROME/555-852\n",
      "    start: 555\n",
      "    end: 852\n",
      "    zaporedje: IVMVVMRS-PNEEK-YSCIKKRTCVDRPVPSQVVTLKVIAPRQQKP---TGLMSIATKVVIQMNAKLMGA---PWQVVIPL-------HGLM---------TVGFDVCHSPKNK-----------NKSYGAFVATMDQKESFRYFSTVNEHIKGQELSEQ-MSV------------NMACALRSYQEQHRS-LPERILFFRDGVGDGQLYQVVNSEVNTLKDRLDEI---YKSAGKQEG--CRMTFIIVSKRINSRYFT-----------------------------GHRNPVPGTVV---DDVITLPERYDFFLVSQAVRIGTVSPTSYNVISDNMGLNADKL-QML------SYKMTHMYYNYS----GTIRVPAVCHYAHKLAFLVAESIN\n",
      "    db_xrefs: None\n",
      "    \n",
      "\n",
      "    opis: PIWI_DROME/538-829\n",
      "    start: 538\n",
      "    end: 829\n",
      "    zaporedje: LILCLVPN-DNAER-YSSIKKRGYVDRAVPTQVVTLKTTKNRSL--------MSIATKIAIQLNCKLGYT---PWMIELPL-------SGLM---------TIGFDIAKSTRDR-----------KRAYGALIASMDLQQNSTYFSTV-TECSAFDVLANTLWP------------MIAKALRQYQHEHRK-LPSRIVFYRDGVSSGSLKQLFEFEVKDIIEKLKTE---YARVQLSP---PQLAYIVVTRSMNTRFFLN-----------------------------GQNPPPGTIV---DDVITLPERYDFYLVSQQVRQGTVSPTSYNVLYSSMGLSPEKM-QKL------TYKMCHLYYNWS----GTTRVPAVCQYAKKLATLVGTNLH\n",
      "    db_xrefs: None\n",
      "    \n",
      "\n",
      "    opis: PIWL1_HUMAN/555-847\n",
      "    start: 555\n",
      "    end: 847\n",
      "    zaporedje: IVVCLLSS-NRKDK-YDAIKKYLCTDCPTPSQCVVARTLGKQQT-------VMAIATKIALQMNCKMGGE---LWRVDIPL-------KLVM---------IVGIDCYHDMTAG-----------RRSIAGFVASIN-EGMTRWFSRCIFQDRGQELVDG-LKV------------CLQAALRAW-NSCNEYMPSRIIVYRDGVGDGQLKTLVNYEVPQFLDCLK-------SIGRGYN--PRLTVIVVKKRVNTRFFAQSGGR-------------------------LQNPLPGTVI---DVEVTRPEWYDFFIVSQAVRSGSVSPTHYNVIYDNSGLKPDHI-QRL------TYKLCHIYYNWP----GVIRVPAPCQYAHKLAFLVGQSIH\n",
      "    db_xrefs: None\n",
      "    \n",
      "\n",
      "    opis: PIWI_ARCFU/110-406\n",
      "    start: 110\n",
      "    end: 406\n",
      "    zaporedje: GIMLVLPE-YNTPL-YYKLKSYLINS--IPSQFMRYDILSNRNL--------TFYVDNLLVQFVSKLGGK---PWILNVDPEK--------------------GSDIIIGTGAT--------RIDNVNLFCFAMVFK-KDGTMLWNEISPIVTSSEYLTY-LKS------------TIKKVVYGFKKSNPDWDVEKLTLHVSG----KRPKMKDGETKILKETVE-------ELKKQEMVSRDVKYAILHLNETHPFWVMGDPN------------------------NRFHPYEGTKVKLSSKRYLLTLLQPYLKRNGLEMVTPIKPLSVEIVSDN--WTSEEYYHNVHEILDEIYYLSKMNWRGF----RSRNLPVTVNYPKLVAGIIANVNR\n",
      "    db_xrefs: PDB; 2W42 B; 110-406;PDB; 1YTU B; 110-406;PDB; 2BGG B; 110-406;PDB; 1W9H A; 110-406;PDB; 2BGG A; 110-406;PDB; 1YTU A; 110-406;PDB; 2W42 A; 110-406;\n",
      "    \n",
      "\n",
      "    opis: Y1321_METJA/426-699\n",
      "    start: 426\n",
      "    end: 699\n",
      "    zaporedje: CFALIIGKEKYKDNDYYEILKKQLFDLKIISQNILWENWRKDDK--------GYMTNNLLIQIMGKLGIK---YFILDSKTPYDY----------------IMGLDTGLGIFGN------------HRVGGCTVVYDSEGKIRRIQPIETPAPGERLHLP----------------YVIEYLEN--KANIDMENKNILFLRDG-------FIQNSERNDLKEISK-------ELN------SNIEVISIRKNNKYKVFTSDYRI------------------------GSVFGNDGIFLPHKTPFGSNPVKLSTWLRFNCGNEEGLK---IN----------ESI-MQL------LYDLTKMNYSALYGEGRYLRIPAPIHYADKFVKALGKNWK\n",
      "    db_xrefs: None\n",
      "    \n",
      "\n",
      "    opis: O67434_AQUAE/419-694\n",
      "    start: 419\n",
      "    end: 694\n",
      "    zaporedje: LVIVFLEEYPKVDP-YKSFLLYDFVKRELLKKMIPSQVILNRTLKN---ENLKFVLLNVAEQVLAKTGNIP--YKLKEIEGKVDA----------------FVGIDISRITRDG----------KTVNAVAFTKIFNSKGELVRYYLTSYPAFGEKLTEK----------------AIGDVFSLLEKLGF-KKGSKIVVHRDG-------RLYRDEVAAFK-----------KYGELYG--YSLELLEIIKRNNPRFFSNEKFI------------------------------KGYFYKLSEDSVILATYNQVY-------EGTHQPIKVRKVYGE--LPVEVL-CSQ------ILSLTLMNYSSF----QPIKLPATVHYSDKITKLMLRGIE\n",
      "    db_xrefs: PDB; 1YVU A; 419-694;PDB; 2F8S A; 419-694;PDB; 2F8T A; 419-694;PDB; 2F8S B; 419-694;PDB; 2NUB A; 419-694;PDB; 2F8T B; 419-694;\n",
      "    \n",
      "\n",
      "    opis: AGO10_ARATH/625-946\n",
      "    start: 625\n",
      "    end: 946\n",
      "    zaporedje: LLLAILPD-NNGSL-YGDLKRICETELGLISQCCLTKHVFKI---------SKQYLANVSLKINVKMGGRN-TVLVDAISCRIPLVSDIPTI---------IFGADVTHPENGE---------ESSPSIAAVVASQDWPEVTKYAGLVCAQAHRQELIQDLYKTWQDPVRGTVSGGMIRDLLISFRKATGQ-KPLRIIFYRDGVSEGQFYQVLLYELDAIRKACA-------SLEPNYQ--PPVTFIVVQKRHHTRLFANNHRDKN-------------------STDRSGNILPGTVV---DTKICHPTEFDFYLCSHAGIQGTSRPAHYHVLWDENNFTADGI-QSL------TNNLCYTYARCT----RSVSIVPPAYYAHLAAFRARFYLE\n",
      "    db_xrefs: None\n",
      "    \n"
     ]
    }
   ],
   "execution_count": 15
  },
  {
   "metadata": {},
   "cell_type": "markdown",
   "source": "Ustvarimo nekaj poravnav več zaporedij in jih shrnaimo v formatu phylip. Izhodna datoteka naj bo my_malign.phy. Na koncu preberite in izpišite vsebino datoteke.",
   "id": "8ef287f4cee7a859"
  },
  {
   "metadata": {
    "ExecuteTime": {
     "end_time": "2025-04-03T06:44:06.842552Z",
     "start_time": "2025-04-03T06:44:06.839235Z"
    }
   },
   "cell_type": "code",
   "source": [
    "from Bio.Seq import Seq\n",
    "from Bio.SeqRecord import SeqRecord\n",
    "from Bio.Align import MultipleSeqAlignment"
   ],
   "id": "8cef7f1e0826a79a",
   "outputs": [],
   "execution_count": 17
  },
  {
   "metadata": {
    "ExecuteTime": {
     "end_time": "2025-04-03T06:48:34.005364Z",
     "start_time": "2025-04-03T06:48:34.001148Z"
    }
   },
   "cell_type": "code",
   "source": [
    "align1 = MultipleSeqAlignment([\n",
    "    SeqRecord(Seq(\"ACTGCTAGCTAG\"), id=\" Alpha\"),\n",
    "    SeqRecord(Seq(\"ACT-CTAGCTAG\"), id=\" Beta\"),\n",
    "    SeqRecord(Seq(\"ACTGCTAGDTAG\"), id=\" Gamma\")\n",
    "])\n",
    "\n",
    "align2 = MultipleSeqAlignment([\n",
    "    SeqRecord (Seq(\"GTCAGC-AG\"), id=\"Delta\"),\n",
    "    SeqRecord (Seq(\"GACAGCTAG\"), id=\"Epsilon\"),\n",
    "    SeqRecord (Seq(\"GTCAGCTAG\"), id=\"Zeta\")\n",
    "])\n",
    "\n",
    "align3 = MultipleSeqAlignment([\n",
    "    SeqRecord(Seq(\"ACTAGTACAGCTG\"), id=\"Eta\"),\n",
    "    SeqRecord(Seq(\"ACTAGTACAGCT-\"), id=\"Theta\"),\n",
    "    SeqRecord(Seq(\"-CTACTACAGGTG\"), id=\"lota\")\n",
    "])"
   ],
   "id": "a32d03a65255148",
   "outputs": [],
   "execution_count": 18
  },
  {
   "metadata": {
    "ExecuteTime": {
     "end_time": "2025-04-03T06:49:50.613520Z",
     "start_time": "2025-04-03T06:49:50.609650Z"
    }
   },
   "cell_type": "code",
   "source": [
    "my_alignements = [align1, align2, align3]\n",
    "N = AlignIO.write(my_alignements, \"my_malign.phy\", \"phylip\") # vrne število vnosov"
   ],
   "id": "af26b4b97c131c47",
   "outputs": [],
   "execution_count": 20
  },
  {
   "metadata": {
    "ExecuteTime": {
     "end_time": "2025-04-03T06:49:52.058211Z",
     "start_time": "2025-04-03T06:49:52.054323Z"
    }
   },
   "cell_type": "code",
   "source": "N",
   "id": "edcfe32f875efef4",
   "outputs": [
    {
     "data": {
      "text/plain": [
       "3"
      ]
     },
     "execution_count": 21,
     "metadata": {},
     "output_type": "execute_result"
    }
   ],
   "execution_count": 21
  },
  {
   "metadata": {
    "ExecuteTime": {
     "end_time": "2025-04-03T06:51:01.768072Z",
     "start_time": "2025-04-03T06:51:01.763825Z"
    }
   },
   "cell_type": "code",
   "source": [
    "for alignment in AlignIO.parse(\"my_malign.phy\", \"phylip\"):\n",
    "    print(alignment)"
   ],
   "id": "58355d4fae02ad58",
   "outputs": [
    {
     "name": "stdout",
     "output_type": "stream",
     "text": [
      "Alignment with 3 rows and 12 columns\n",
      "ACTGCTAGCTAG Alpha\n",
      "ACT-CTAGCTAG Beta\n",
      "ACTGCTAGDTAG Gamma\n",
      "Alignment with 3 rows and 9 columns\n",
      "GTCAGC-AG Delta\n",
      "GACAGCTAG Epsilon\n",
      "GTCAGCTAG Zeta\n",
      "Alignment with 3 rows and 13 columns\n",
      "ACTAGTACAGCTG Eta\n",
      "ACTAGTACAGCT- Theta\n",
      "-CTACTACAGGTG lota\n"
     ]
    }
   ],
   "execution_count": 22
  },
  {
   "metadata": {},
   "cell_type": "markdown",
   "source": [
    "Lahko pretvarjamo med formati, če so vsi potrebni podatki dostopni.\n",
    "\n",
    "Pretvori stockholmski format v clustal."
   ],
   "id": "97ef32752a17c43c"
  },
  {
   "metadata": {
    "ExecuteTime": {
     "end_time": "2025-04-03T07:12:23.510159Z",
     "start_time": "2025-04-03T07:12:23.500074Z"
    }
   },
   "cell_type": "code",
   "source": "AlignIO.convert(\"PF02171_seed.sth\", \"stockholm\", \"PF02171.aln\", \"clustal\")",
   "id": "58faf9b461a6352f",
   "outputs": [
    {
     "data": {
      "text/plain": [
       "1"
      ]
     },
     "execution_count": 24,
     "metadata": {},
     "output_type": "execute_result"
    }
   ],
   "execution_count": 24
  },
  {
   "metadata": {
    "ExecuteTime": {
     "end_time": "2025-04-03T07:13:55.871028Z",
     "start_time": "2025-04-03T07:13:55.864063Z"
    }
   },
   "cell_type": "code",
   "source": [
    "import os\n",
    "os.listdir()"
   ],
   "id": "6eac2dcb0b0c45c2",
   "outputs": [
    {
     "data": {
      "text/plain": [
       "['PF02171_seed.sth',\n",
       " 'v6.ipynb',\n",
       " 'E06_Poravnava_zaporedij.pptx',\n",
       " 'my_malign.phy',\n",
       " 'PF02171.aln']"
      ]
     },
     "execution_count": 27,
     "metadata": {},
     "output_type": "execute_result"
    }
   ],
   "execution_count": 27
  },
  {
   "metadata": {},
   "cell_type": "markdown",
   "source": "Za vsak zapis datoteke PF02171_seed.sth izpiši opis, prvih 20 baz in zadnjih 20 baz.",
   "id": "ddd3e7db33b081d8"
  },
  {
   "metadata": {
    "ExecuteTime": {
     "end_time": "2025-04-03T07:21:59.828898Z",
     "start_time": "2025-04-03T07:21:59.821850Z"
    }
   },
   "cell_type": "code",
   "source": [
    "alignments = AlignIO.read(\"PF02171_seed.sth\", \"stockholm\")\n",
    "wanted_alignments = alignments[:, :20] + alignments[:, -20:]"
   ],
   "id": "131494f24f873ca1",
   "outputs": [],
   "execution_count": 42
  },
  {
   "metadata": {
    "ExecuteTime": {
     "end_time": "2025-04-03T07:22:03.504749Z",
     "start_time": "2025-04-03T07:22:03.498188Z"
    }
   },
   "cell_type": "code",
   "source": [
    "for alignment in wanted_alignments:\n",
    "    print(alignment.description, \"\\t\", alignment.seq)"
   ],
   "id": "2f68f14b85cacf6d",
   "outputs": [
    {
     "name": "stdout",
     "output_type": "stream",
     "text": [
      "AGO1_SCHPO/500-799 \t YLFFILDK-NSPEP-YGSIKLVPPVYYAHLVSNLARYQDV\n",
      "AGO6_ARATH/541-851 \t FILCILPERKTSDI-YGPWKIVAPVRYAHLAAAQVAQFTK\n",
      "AGO4_ARATH/577-885 \t FILCVLPDKKNSDL-YGPWKVVAPICYAHLAAAQLGTFMK\n",
      "TAG76_CAEEL/660-966 \t CIIVVLQS-KNSDI-YMTVKIPTPVYYADLVATRARCHVK\n",
      "O16720_CAEEL/566-867 \t LIVVVLPG--KTPI-YAEVKIPAPAYYAHLVAFRARYHLV\n",
      "O62275_CAEEL/594-924 \t TFVFIITD-DSITT-LHQRYLPTPLYVANEYAKRGRNLWN\n",
      "YQ53_CAEEL/650-977 \t DILVGIAR-EKKPD-VHDILVPDVLYAAENLAKRGRNNYK\n",
      "NRDE3_CAEEL/673-1001 \t TIVFGIIA-EKRPD-MHDILIPNVSYAAQNLAKRGHNNYK\n",
      "Q17567_CAEEL/397-708 \t MLVVMLAD-DNKTR-YDSLKVPAPCQYAHKLAFLTAQSLH\n",
      "AUB_DROME/555-852 \t IVMVVMRS-PNEEK-YSCIKVPAVCHYAHKLAFLVAESIN\n",
      "PIWI_DROME/538-829 \t LILCLVPN-DNAER-YSSIKVPAVCQYAKKLATLVGTNLH\n",
      "PIWL1_HUMAN/555-847 \t IVVCLLSS-NRKDK-YDAIKVPAPCQYAHKLAFLVGQSIH\n",
      "PIWI_ARCFU/110-406 \t GIMLVLPE-YNTPL-YYKLKLPVTVNYPKLVAGIIANVNR\n",
      "Y1321_METJA/426-699 \t CFALIIGKEKYKDNDYYEILIPAPIHYADKFVKALGKNWK\n",
      "O67434_AQUAE/419-694 \t LVIVFLEEYPKVDP-YKSFLLPATVHYSDKITKLMLRGIE\n",
      "AGO10_ARATH/625-946 \t LLLAILPD-NNGSL-YGDLKIVPPAYYAHLAAFRARFYLE\n"
     ]
    }
   ],
   "execution_count": 43
  },
  {
   "metadata": {},
   "cell_type": "markdown",
   "source": "Za pairwise aligment uporabimo `PairwiseAligner` za globalno ali lokalno poravnavo.",
   "id": "1946ab85d4e253df"
  },
  {
   "metadata": {
    "ExecuteTime": {
     "end_time": "2025-04-03T07:25:47.018735Z",
     "start_time": "2025-04-03T07:25:47.014015Z"
    }
   },
   "cell_type": "code",
   "source": "from Bio.Align import PairwiseAligner",
   "id": "756b147f7759706",
   "outputs": [],
   "execution_count": 44
  },
  {
   "metadata": {
    "ExecuteTime": {
     "end_time": "2025-04-03T07:26:12.338757Z",
     "start_time": "2025-04-03T07:26:12.333003Z"
    }
   },
   "cell_type": "code",
   "source": "aligner = PairwiseAligner(match_score=1) # dobesedno to kar piše",
   "id": "e01a10dbd96a2112",
   "outputs": [],
   "execution_count": 46
  },
  {
   "metadata": {},
   "cell_type": "markdown",
   "source": "Uporabimo aligner za izračun ocene poravnave dveh sekvenc.",
   "id": "dbcded4bfad8185b"
  },
  {
   "metadata": {
    "ExecuteTime": {
     "end_time": "2025-04-03T07:27:16.899615Z",
     "start_time": "2025-04-03T07:27:16.891901Z"
    }
   },
   "cell_type": "code",
   "source": [
    "target = \"GAACT\"\n",
    "query = \"GAT\"\n",
    "score = aligner.score(target, query)\n",
    "score"
   ],
   "id": "ed184948c6d0d110",
   "outputs": [
    {
     "data": {
      "text/plain": [
       "3.0"
      ]
     },
     "execution_count": 47,
     "metadata": {},
     "output_type": "execute_result"
    }
   ],
   "execution_count": 47
  },
  {
   "metadata": {},
   "cell_type": "markdown",
   "source": [
    "`PairwiseAligner.align` vrne vse možne poravnave nad dvema sekvencama. Vsak `Alignment` objekt hrani `score`, `target`, `query`...\n",
    "\n",
    "Poravnava je shranjena v obliki koordinat zaporedja (`coordinates`).\n",
    "\n",
    "Dolžina poravnave je shranjena v `length` spremenljivki."
   ],
   "id": "e57da2f272d726b4"
  },
  {
   "metadata": {
    "ExecuteTime": {
     "end_time": "2025-04-03T07:34:30.699737Z",
     "start_time": "2025-04-03T07:34:30.693899Z"
    }
   },
   "cell_type": "code",
   "source": [
    "for a in aligner.align(target, query):\n",
    "    print(f\"\"\"\n",
    "    target: {a.target}\n",
    "    query: {a.query}\n",
    "    score: {a.score}\n",
    "    length: {a.length}\n",
    "    \"\"\")"
   ],
   "id": "561ea58fd37f6db1",
   "outputs": [
    {
     "name": "stdout",
     "output_type": "stream",
     "text": [
      "\n",
      "    target: GAACT\n",
      "    query: GAT\n",
      "    score: 3.0\n",
      "    length: 5\n",
      "    \n",
      "\n",
      "    target: GAACT\n",
      "    query: GAT\n",
      "    score: 3.0\n",
      "    length: 5\n",
      "    \n"
     ]
    }
   ],
   "execution_count": 53
  },
  {
   "metadata": {},
   "cell_type": "markdown",
   "source": "Poravnavi dobita enak score, če se poravnava razlikuje le v položaju vrzeli (gap).",
   "id": "b3077d8c70d6ef3e"
  },
  {
   "metadata": {
    "ExecuteTime": {
     "end_time": "2025-04-03T07:38:13.043973Z",
     "start_time": "2025-04-03T07:38:13.038819Z"
    }
   },
   "cell_type": "code",
   "source": [
    "aligner.mismatch_score = -10\n",
    "alignments = aligner.align(\"AACAA\", \"AAGAA\")"
   ],
   "id": "74efa226d7946bc4",
   "outputs": [],
   "execution_count": 63
  },
  {
   "metadata": {
    "ExecuteTime": {
     "end_time": "2025-04-03T07:39:10.256062Z",
     "start_time": "2025-04-03T07:39:10.248292Z"
    }
   },
   "cell_type": "code",
   "source": [
    "for a in alignments:\n",
    "    print(a, end=\"\")\n",
    "    print(\"score: \", a.score)"
   ],
   "id": "ed7d689c040a3042",
   "outputs": [
    {
     "name": "stdout",
     "output_type": "stream",
     "text": [
      "target            0 AAC-AA 5\n",
      "                  0 ||--|| 6\n",
      "query             0 AA-GAA 5\n",
      "score:  4.0\n",
      "target            0 AA-CAA 5\n",
      "                  0 ||--|| 6\n",
      "query             0 AAG-AA 5\n",
      "score:  4.0\n"
     ]
    }
   ],
   "execution_count": 69
  },
  {
   "metadata": {},
   "cell_type": "markdown",
   "source": "Privzeto se uporavlja globalna poravnava, ki najde optimalno poravnavo po celotnih zaporedjih. Z lokalno poravnano se najde podzaporedje z najvišjo oceno poravnave.",
   "id": "3019b8480f096f8"
  },
  {
   "metadata": {
    "ExecuteTime": {
     "end_time": "2025-04-03T07:43:20.597824Z",
     "start_time": "2025-04-03T07:43:20.591859Z"
    }
   },
   "cell_type": "code",
   "source": [
    "aligner.mode = \"global\"\n",
    "\n",
    "for a  in aligner.align(\"AGAACTC\", \"GAACT\"):\n",
    "    print(a)"
   ],
   "id": "ab248c43dec00315",
   "outputs": [
    {
     "name": "stdout",
     "output_type": "stream",
     "text": [
      "target            0 AGAACTC 7\n",
      "                  0 -|||||- 7\n",
      "query             0 -GAACT- 5\n",
      "\n"
     ]
    }
   ],
   "execution_count": 73
  },
  {
   "metadata": {
    "ExecuteTime": {
     "end_time": "2025-04-03T07:43:23.062864Z",
     "start_time": "2025-04-03T07:43:23.054798Z"
    }
   },
   "cell_type": "code",
   "source": [
    "aligner.mode = \"local\"\n",
    "\n",
    "for a  in aligner.align(\"AGAACTC\", \"GAACT\"):\n",
    "    print(a)"
   ],
   "id": "c45e31f07aec5cfa",
   "outputs": [
    {
     "name": "stdout",
     "output_type": "stream",
     "text": [
      "target            1 GAACT 6\n",
      "                  0 ||||| 5\n",
      "query             0 GAACT 5\n",
      "\n"
     ]
    }
   ],
   "execution_count": 74
  },
  {
   "metadata": {},
   "cell_type": "markdown",
   "source": [
    "Če izpišemo objekt `PairwiseAligner` se izpišejo vsi parametri, ki jih trenutno uporablja.\n",
    "\n",
    "`PairwiseAligner.epsilon` je vrednost, ki se uporablja za mejo natančnosti poravnave (tako da je poravnava statistično značilna). Privzeto je enaka $10^{-6}$. Dve poravnavi se štejeta za enaki, če je absolutna razlika njunih ocen manjša od $\\epsilon$."
   ],
   "id": "be2c8c5bbb2e0f29"
  },
  {
   "metadata": {
    "ExecuteTime": {
     "end_time": "2025-04-03T07:44:05.568909Z",
     "start_time": "2025-04-03T07:44:05.561983Z"
    }
   },
   "cell_type": "code",
   "source": "aligner",
   "id": "5baafb9897396303",
   "outputs": [
    {
     "data": {
      "text/plain": [
       "'Smith-Waterman'"
      ]
     },
     "execution_count": 76,
     "metadata": {},
     "output_type": "execute_result"
    }
   ],
   "execution_count": 76
  },
  {
   "metadata": {
    "ExecuteTime": {
     "end_time": "2025-04-03T07:50:26.697501Z",
     "start_time": "2025-04-03T07:50:26.692640Z"
    }
   },
   "cell_type": "code",
   "source": [
    "seq1 = Seq(\"MVLSPADKTNVKAAWGKVGAHAGEYGAEALERMFLSFPTTKTYFPH\"\n",
    "           \"FDLSHGSAQVKGHGKKVADALTNAVAHVDDMPNALSALSDLHAHKL\"\n",
    "           \"RVDPVNFKLLSHCLLVTLAAHLPAEFTPAVHASLDKFLASVSTVLTSKYR\")\n",
    "\n",
    "seq2 = Seq(\"MVHLTPEEKSAVTALWGKVNVDEVGGEALGRLLVVYPWTQRFFESFG\"\n",
    "           \"DLSTPDAVMGNPKVKAHGKKVLGAFSDGLAHLDNLKGTFATLSELHC\"\n",
    "           \"DKLHVDPENFRLLGNVLVCVLAHHFGKEFTPPVQAAYQKVVAGVANALAHKYH\")"
   ],
   "id": "acb17694482e1cb9",
   "outputs": [],
   "execution_count": 77
  },
  {
   "metadata": {
    "ExecuteTime": {
     "end_time": "2025-04-03T07:51:05.528767Z",
     "start_time": "2025-04-03T07:51:05.520877Z"
    }
   },
   "cell_type": "code",
   "source": [
    "aligner.mode = \"global\"\n",
    "aligner.score(seq1, seq2)"
   ],
   "id": "d4ef8f2663f9e2ab",
   "outputs": [
    {
     "data": {
      "text/plain": [
       "72.0"
      ]
     },
     "execution_count": 80,
     "metadata": {},
     "output_type": "execute_result"
    }
   ],
   "execution_count": 80
  },
  {
   "metadata": {
    "ExecuteTime": {
     "end_time": "2025-04-03T07:52:13.090089Z",
     "start_time": "2025-04-03T07:52:13.038990Z"
    }
   },
   "cell_type": "code",
   "source": "# aligner.align(seq1, seq2)",
   "id": "f18ce292580393c9",
   "outputs": [
    {
     "ename": "OverflowError",
     "evalue": "number of optimal alignments is larger than 9223372036854775807",
     "output_type": "error",
     "traceback": [
      "\u001B[31m---------------------------------------------------------------------------\u001B[39m",
      "\u001B[31mOverflowError\u001B[39m                             Traceback (most recent call last)",
      "\u001B[36mCell\u001B[39m\u001B[36m \u001B[39m\u001B[32mIn[82]\u001B[39m\u001B[32m, line 1\u001B[39m\n\u001B[32m----> \u001B[39m\u001B[32m1\u001B[39m \u001B[38;5;28;43mlen\u001B[39;49m\u001B[43m(\u001B[49m\u001B[43maligner\u001B[49m\u001B[43m.\u001B[49m\u001B[43malign\u001B[49m\u001B[43m(\u001B[49m\u001B[43mseq1\u001B[49m\u001B[43m,\u001B[49m\u001B[43m \u001B[49m\u001B[43mseq2\u001B[49m\u001B[43m)\u001B[49m\u001B[43m)\u001B[49m\n",
      "\u001B[36mFile \u001B[39m\u001B[32m~/progAAAAAAA/UVB/.venv/lib/python3.11/site-packages/Bio/Align/__init__.py:3724\u001B[39m, in \u001B[36mPairwiseAlignments.__len__\u001B[39m\u001B[34m(self)\u001B[39m\n\u001B[32m   3723\u001B[39m \u001B[38;5;28;01mdef\u001B[39;00m\u001B[38;5;250m \u001B[39m\u001B[34m__len__\u001B[39m(\u001B[38;5;28mself\u001B[39m):\n\u001B[32m-> \u001B[39m\u001B[32m3724\u001B[39m     \u001B[38;5;28;01mreturn\u001B[39;00m \u001B[38;5;28mlen\u001B[39m(\u001B[38;5;28mself\u001B[39m._paths)\n",
      "\u001B[31mOverflowError\u001B[39m: number of optimal alignments is larger than 9223372036854775807"
     ]
    }
   ],
   "execution_count": 82
  },
  {
   "metadata": {},
   "cell_type": "markdown",
   "source": "Poravnav je preveč in dobimo OverflowError.",
   "id": "d352f42b0b9bb062"
  }
 ],
 "metadata": {
  "kernelspec": {
   "display_name": "Python 3",
   "language": "python",
   "name": "python3"
  },
  "language_info": {
   "codemirror_mode": {
    "name": "ipython",
    "version": 2
   },
   "file_extension": ".py",
   "mimetype": "text/x-python",
   "name": "python",
   "nbconvert_exporter": "python",
   "pygments_lexer": "ipython2",
   "version": "2.7.6"
  }
 },
 "nbformat": 4,
 "nbformat_minor": 5
}
