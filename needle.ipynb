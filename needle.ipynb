{
 "cells": [
  {
   "cell_type": "code",
   "execution_count": 5,
   "id": "da1ea642-2077-4c1f-a34d-10ea2465bb12",
   "metadata": {},
   "outputs": [],
   "source": [
    "from Bio import pairwise2\n",
    "from Bio.pairwise2 import format_alignment\n"
   ]
  },
  {
   "cell_type": "code",
   "execution_count": 9,
   "id": "1acf0999-8880-44e5-b7da-06bdc7b56cb7",
   "metadata": {},
   "outputs": [],
   "source": [
    "# Define two sequences\n",
    "seq1 = \"FMDTPLNE\"\n",
    "seq2 = \"FKHMEDPLE\"\n",
    "\n"
   ]
  },
  {
   "cell_type": "code",
   "execution_count": 10,
   "id": "c43e9ebc-246f-456b-9238-adee17065e69",
   "metadata": {},
   "outputs": [],
   "source": [
    "# Perform Global Alignment using Needleman-Wunsch\n",
    "# pairwise2.align.globalms(seq1, seq2, MATCH, MISMATCH, GAP_OPEN, GAP_EXTEND)\n",
    "# alignments = pairwise2.align.globalxx(seq1, seq2)\n",
    "alignments = pairwise2.align.globalms(seq1, seq2, 1, -2, -2, -2)\n"
   ]
  },
  {
   "cell_type": "code",
   "execution_count": 11,
   "id": "dce12738-77f2-4aa9-a0e5-1cca27e15690",
   "metadata": {},
   "outputs": [
    {
     "name": "stdout",
     "output_type": "stream",
     "text": [
      "F--M-DTPLNE\n",
      "|  | | || |\n",
      "FKHMED-PL-E\n",
      "  Score=-4\n",
      "\n"
     ]
    }
   ],
   "source": [
    "# Print all possible alignments\n",
    "for alignment in alignments:\n",
    "    print(format_alignment(*alignment))"
   ]
  }
 ],
 "metadata": {
  "kernelspec": {
   "display_name": "Python 3 (ipykernel)",
   "language": "python",
   "name": "python3"
  },
  "language_info": {
   "codemirror_mode": {
    "name": "ipython",
    "version": 3
   },
   "file_extension": ".py",
   "mimetype": "text/x-python",
   "name": "python",
   "nbconvert_exporter": "python",
   "pygments_lexer": "ipython3",
   "version": "3.12.9"
  }
 },
 "nbformat": 4,
 "nbformat_minor": 5
}
