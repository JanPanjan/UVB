{
 "cells": [
  {
   "cell_type": "code",
   "execution_count": null,
   "id": "56c70f81-a0d7-4e90-96ea-a955da404eb1",
   "metadata": {},
   "outputs": [],
   "source": [
    "from Bio import pairwise2\n",
    "from Bio.pairwise2 import format_alignment\n",
    "from Bio.Align import substitution_matrices  # New module for BLOSUM62\n",
    "import pandas as pd\n",
    "\n",
    "# Define sequences\n",
    "seq1 = \"MAVHQLIRRP\"\n",
    "seq2 = \"MHQILIR\""
   ]
  },
  {
   "cell_type": "code",
   "execution_count": null,
   "id": "05f3d5bb-0496-4c3f-a898-87d043de6027",
   "metadata": {},
   "outputs": [],
   "source": [
    "# Load BLOSUM62 matrix\n",
    "blosum62 = substitution_matrices.load(\"BLOSUM62\")\n",
    "\n",
    "# Define gap penalties\n",
    "gap_open = -10  # Penalty for opening a gap\n",
    "gap_extend = -1  # Penalty for extending a gap\n",
    "\n"
   ]
  },
  {
   "cell_type": "code",
   "execution_count": null,
   "id": "b4bb9b0e-5c6c-4a51-a19d-32a779597829",
   "metadata": {},
   "outputs": [],
   "source": [
    "# Perform global alignment using BLOSUM62\n",
    "alignments = pairwise2.align.globalds(seq1, seq2, blosum62, gap_open, gap_extend)\n",
    "\n",
    "# Print the best alignment\n",
    "for alignment in alignments:\n",
    "    print(format_alignment(*alignment))"
   ]
  },
  {
   "cell_type": "code",
   "execution_count": null,
   "id": "8b5cb00e-9e3d-443d-a04d-eb7cb51dfadd",
   "metadata": {},
   "outputs": [],
   "source": [
    "# Convert the BLOSUM62 matrix to a DataFrame\n",
    "df = pd.DataFrame(blosum62, index=list(blosum62.alphabet), columns=list(blosum62.alphabet))\n",
    "\n",
    "# Display the DataFrame\n",
    "print(df)"
   ]
  }
 ],
 "metadata": {
  "kernelspec": {
   "display_name": "Python 3 (ipykernel)",
   "language": "python",
   "name": "python3"
  },
  "language_info": {
   "codemirror_mode": {
    "name": "ipython",
    "version": 3
   },
   "file_extension": ".py",
   "mimetype": "text/x-python",
   "name": "python",
   "nbconvert_exporter": "python",
   "pygments_lexer": "ipython3",
   "version": "3.12.9"
  }
 },
 "nbformat": 4,
 "nbformat_minor": 5
}
